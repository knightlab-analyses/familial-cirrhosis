{
 "cells": [
  {
   "cell_type": "markdown",
   "metadata": {},
   "source": [
    "**Author: Anupriya Tripathi (a3tripat@ucsd.edu)**"
   ]
  },
  {
   "cell_type": "code",
   "execution_count": 1,
   "metadata": {},
   "outputs": [],
   "source": [
    "import pandas as pd\n",
    "# from qiime2.plugins import feature_table\n",
    "# from qiime2 import Artifact\n",
    "import biom\n",
    "import itertools\n",
    "# from qiime2.plugins import diversity\n",
    "import seaborn as sns\n",
    "import skbio.stats.distance as ssd\n",
    "from scipy.stats import kruskal\n",
    "import matplotlib.pyplot as plt\n",
    "% matplotlib inline"
   ]
  },
  {
   "cell_type": "code",
   "execution_count": 4,
   "metadata": {},
   "outputs": [],
   "source": [
    "# import biom table as artifact\n",
    "! qiime tools import \\\n",
    "  --input-path ../reference-hit9k-wtax.biom \\\n",
    "  --type 'FeatureTable[Frequency]' \\\n",
    "  --source-format BIOMV210Format \\\n",
    "  --output-path ../reference-hit9k-wtax.qza"
   ]
  },
  {
   "cell_type": "code",
   "execution_count": 5,
   "metadata": {},
   "outputs": [],
   "source": [
    "# some otus were not placed phylogenentic tree so we will use this filttered biom table for diversity analysis\n",
    "! qiime tools import \\\n",
    "  --input-path ../reference-hit9k-wtax-filtered.biom \\\n",
    "  --type 'FeatureTable[Frequency]' \\\n",
    "  --source-format BIOMV210Format \\\n",
    "  --output-path ../reference-hit9k-wtax-filtered.qza"
   ]
  },
  {
   "cell_type": "code",
   "execution_count": 7,
   "metadata": {},
   "outputs": [],
   "source": [
    "# importing tree\n",
    "! qiime tools import \\\n",
    "  --input-path ../insertion_tree.relabelled.tre \\\n",
    "  --output-path ../insertion_tree.relabelled.qza \\\n",
    "  --type 'Phylogeny[Rooted]'"
   ]
  },
  {
   "cell_type": "markdown",
   "metadata": {},
   "source": [
    "**we are using QIIME2 Jupyter API to load the alpha and beta-diversity tables**"
   ]
  },
  {
   "cell_type": "code",
   "execution_count": 27,
   "metadata": {},
   "outputs": [],
   "source": [
    "table = Artifact.load('../reference-hit9k-wtax-filtered.qza')\n",
    "tablepd = table.view(pd.DataFrame)\n",
    "tablepd.head(2)"
   ]
  },
  {
   "cell_type": "code",
   "execution_count": 6,
   "metadata": {},
   "outputs": [
    {
     "name": "stdout",
     "output_type": "stream",
     "text": [
      "\u001b[32mSaved SampleData[AlphaDiversity] % Properties(['phylogenetic']) to: ../alpha9k.qza\u001b[0m\r\n"
     ]
    }
   ],
   "source": [
    "! qiime diversity alpha-phylogenetic \\\n",
    "--i-table ../reference-hit9k-wtax-filtered.qza \\\n",
    "--i-phylogeny ../insertion_tree.relabelled.qza \\\n",
    "--p-metric faith_pd \\\n",
    "--o-alpha-diversity ../alpha9k.qza"
   ]
  },
  {
   "cell_type": "code",
   "execution_count": 7,
   "metadata": {},
   "outputs": [],
   "source": [
    "! qiime tools export \\\n",
    "../alpha9k.qza \\\n",
    "--output-dir ../alpha9k"
   ]
  },
  {
   "cell_type": "markdown",
   "metadata": {},
   "source": [
    "### 1. plotting trends in alpha diversity (Faith's PD)"
   ]
  },
  {
   "cell_type": "code",
   "execution_count": 8,
   "metadata": {},
   "outputs": [],
   "source": [
    "md = pd.read_table('all_qiime_mapping_complete_corr_CC.txt', sep='\\t', index_col=0)\n",
    "adiv = pd.read_table('alpha9k/alpha-diversity.tsv', index_col=0)"
   ]
  },
  {
   "cell_type": "code",
   "execution_count": 9,
   "metadata": {},
   "outputs": [],
   "source": [
    "# alpha-div\n",
    "adiv['groups'] = [md.loc[idx, 'groups'] for idx in adiv.index]"
   ]
  },
  {
   "cell_type": "code",
   "execution_count": 10,
   "metadata": {},
   "outputs": [],
   "source": [
    "# save source data\n",
    "adiv.reset_index().rename(columns={'index':'#SampleID'}).to_csv('tables/source_data_alpha_diversity_fig2a.csv', \n",
    "                                                                sep=',', index=False)"
   ]
  },
  {
   "cell_type": "code",
   "execution_count": 11,
   "metadata": {},
   "outputs": [
    {
     "data": {
      "text/plain": [
       "G1P    51\n",
       "G1R    39\n",
       "G3R    34\n",
       "G3P    25\n",
       "G2P    17\n",
       "G2R    17\n",
       "Name: groups, dtype: int64"
      ]
     },
     "execution_count": 11,
     "metadata": {},
     "output_type": "execute_result"
    }
   ],
   "source": [
    "adiv.groups.value_counts()"
   ]
  },
  {
   "cell_type": "code",
   "execution_count": 12,
   "metadata": {},
   "outputs": [
    {
     "data": {
      "image/png": "[encoded data removed]",
      "text/plain": [
       "<Figure size 432x288 with 1 Axes>"
      ]
     },
     "metadata": {},
     "output_type": "display_data"
    }
   ],
   "source": [
    "fig, ax = plt.subplots()\n",
    "fig = sns.boxplot(y='faith_pd', x='groups', order=['G1P', 'G2P', 'G3P'], data=adiv, \n",
    "           palette={'G1P':'#66c2a5', 'G2P':'#fc8d62', 'G3P':'#e287c4'}, ax=ax)\n",
    "ax.set(xlabel='', ylabel=\"alpha-diversity (Faith's PD)\")\n",
    "ax.set_xticklabels(['non-NAFLD controls', 'NAFLD without AF', 'NAFLD-cirrhosis'])\n",
    "plt.savefig('figures/fig2a.adiv_G1PG2PG3P.pdf', bbox_to_inches='tight')"
   ]
  },
  {
   "cell_type": "code",
   "execution_count": 13,
   "metadata": {},
   "outputs": [],
   "source": [
    "ag1 = [adiv.loc[idx, 'faith_pd'] for idx in adiv.index if adiv.loc[idx, 'groups'] == 'G1P']\n",
    "ag2 = [adiv.loc[idx, 'faith_pd'] for idx in adiv.index if adiv.loc[idx, 'groups'] == 'G2P']\n",
    "ag3 = [adiv.loc[idx, 'faith_pd'] for idx in adiv.index if adiv.loc[idx, 'groups'] == 'G3P']"
   ]
  },
  {
   "cell_type": "code",
   "execution_count": 14,
   "metadata": {},
   "outputs": [
    {
     "name": "stdout",
     "output_type": "stream",
     "text": [
      "KruskalResult(statistic=5.7630510004513269, pvalue=0.016366628267174482)\n",
      "KruskalResult(statistic=0.30352941176468562, pvalue=0.58167821017296817)\n",
      "KruskalResult(statistic=9.4804889228418858, pvalue=0.0020766861584284721)\n"
     ]
    }
   ],
   "source": [
    "# kruskal-wallis significance testing\n",
    "print(kruskal(ag1, ag2))\n",
    "print(kruskal(ag2, ag3))\n",
    "print(kruskal(ag1, ag3))"
   ]
  },
  {
   "cell_type": "markdown",
   "metadata": {},
   "source": [
    "### 2. plotting trends in beta diversity (unweighted unifrac distances)"
   ]
  },
  {
   "cell_type": "code",
   "execution_count": 15,
   "metadata": {},
   "outputs": [],
   "source": [
    "uwdm = ssd.DistanceMatrix.read('bdiv9k/unweighted_unifrac_dm.txt')\n",
    "wdm = ssd.DistanceMatrix.read('bdiv9k/unweighted_unifrac_dm.txt')\n",
    "sample_arr = (wdm.ids)"
   ]
  },
  {
   "cell_type": "code",
   "execution_count": 16,
   "metadata": {},
   "outputs": [],
   "source": [
    "# list of samples in each group\n",
    "sg1 = [idx for idx in sample_arr if md.loc[idx, 'groups'] == 'G1P']\n",
    "sg2 = [idx for idx in sample_arr if md.loc[idx, 'groups'] == 'G2P']\n",
    "sg3 = [idx for idx in sample_arr if md.loc[idx, 'groups'] == 'G3P']"
   ]
  },
  {
   "cell_type": "code",
   "execution_count": 17,
   "metadata": {},
   "outputs": [],
   "source": [
    "# all possible pairs in each group\n",
    "pg1 = list(itertools.combinations(sg1, 2))\n",
    "pg2 = list(itertools.combinations(sg2, 2))\n",
    "pg3 = list(itertools.combinations(sg3, 2))"
   ]
  },
  {
   "cell_type": "code",
   "execution_count": 18,
   "metadata": {},
   "outputs": [
    {
     "data": {
      "text/plain": [
       "300"
      ]
     },
     "execution_count": 18,
     "metadata": {},
     "output_type": "execute_result"
    }
   ],
   "source": [
    "len(pg3)"
   ]
  },
  {
   "cell_type": "code",
   "execution_count": 19,
   "metadata": {},
   "outputs": [],
   "source": [
    "# unweighted UF distances\n",
    "uwdg1 = [uwdm[pair] for pair in pg1]\n",
    "uwdg2 = [uwdm[pair] for pair in pg2]\n",
    "uwdg3 = [uwdm[pair] for pair in pg3]"
   ]
  },
  {
   "cell_type": "code",
   "execution_count": 20,
   "metadata": {},
   "outputs": [],
   "source": [
    "# weighted UF distances\n",
    "wdg1 = [wdm[pair] for pair in pg1]\n",
    "wdg2 = [wdm[pair] for pair in pg2]\n",
    "wdg3 = [wdm[pair] for pair in pg3]"
   ]
  },
  {
   "cell_type": "code",
   "execution_count": 21,
   "metadata": {},
   "outputs": [],
   "source": [
    "#dataframe to plot bdiv\n",
    "pdf = pd.DataFrame(index=pd.MultiIndex.from_tuples(pg1+pg2+pg3), \n",
    "                   columns=['unweighted_unifrac','weighted_unifrac', 'groups'])\n",
    "# assign groups\n",
    "pdf.groups=['G1P']*len(pg1)+['G2P']*len(pg2)+['G3P']*len(pg3)\n",
    "\n",
    "# assign distances\n",
    "pdf.unweighted_unifrac=uwdg1+uwdg2+uwdg3\n",
    "pdf.weighted_unifrac=wdg1+wdg2+wdg3"
   ]
  },
  {
   "cell_type": "code",
   "execution_count": 22,
   "metadata": {
    "scrolled": true
   },
   "outputs": [],
   "source": [
    "#save source data\n",
    "pdf.to_csv('tables/source_data_beta_diversity_fig2b.csv')"
   ]
  },
  {
   "cell_type": "code",
   "execution_count": 23,
   "metadata": {},
   "outputs": [
    {
     "data": {
      "image/png": "[encoded data removed]",
      "text/plain": [
       "<Figure size 432x288 with 1 Axes>"
      ]
     },
     "metadata": {},
     "output_type": "display_data"
    }
   ],
   "source": [
    "fig, ax = plt.subplots()\n",
    "sns.boxplot(y='unweighted_unifrac', x='groups', order=['G1P', 'G2P', 'G3P'], data=pdf, \n",
    "           palette={'G1P':'#66c2a5', 'G2P':'#fc8d62', 'G3P':'#e287c4'}, ax=ax)\n",
    "ax.set(xlabel='', ylabel=\"beta-diversity (Unweighted UniFrac)\")\n",
    "ax.set_xticklabels(['non-NAFLD controls', 'NAFLD without AF', 'NAFLD-cirrhosis'])\n",
    "ax.set_ylim([0.3, 1])\n",
    "plt.savefig('figures/fig2b.bdiv_unweighted_G1PG2PG2P.pdf', bbox_to_inches='tight')"
   ]
  },
  {
   "cell_type": "code",
   "execution_count": 24,
   "metadata": {},
   "outputs": [
    {
     "name": "stdout",
     "output_type": "stream",
     "text": [
      "KruskalResult(statistic=77.792211102070723, pvalue=1.1447066799586784e-18)\n",
      "KruskalResult(statistic=62.065963790550541, pvalue=3.3214285379151087e-15)\n",
      "KruskalResult(statistic=1.6947850900769481, pvalue=0.19297138819839121)\n"
     ]
    }
   ],
   "source": [
    "bg1 = [pdf.loc[idx, 'unweighted_unifrac'] for idx in pdf.index if pdf.loc[idx, 'groups'] == 'G1P']\n",
    "bg2 = [pdf.loc[idx, 'unweighted_unifrac'] for idx in pdf.index if pdf.loc[idx, 'groups'] == 'G2P']\n",
    "bg3 = [pdf.loc[idx, 'unweighted_unifrac'] for idx in pdf.index if pdf.loc[idx, 'groups'] == 'G3P']\n",
    "\n",
    "print(kruskal(bg1, bg2))\n",
    "print(kruskal(bg2, bg3))\n",
    "print(kruskal(bg1, bg3))"
   ]
  }
 ],
 "metadata": {
  "kernelspec": {
   "display_name": "Python 3",
   "language": "python",
   "name": "python3"
  },
  "language_info": {
   "codemirror_mode": {
    "name": "ipython",
    "version": 3
   },
   "file_extension": ".py",
   "mimetype": "text/x-python",
   "name": "python",
   "nbconvert_exporter": "python",
   "pygments_lexer": "ipython3",
   "version": "3.5.5"
  }
 },
 "nbformat": 4,
 "nbformat_minor": 2
}
