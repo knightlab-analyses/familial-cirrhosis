{
 "cells": [
  {
   "cell_type": "code",
   "execution_count": 1,
   "metadata": {},
   "outputs": [],
   "source": [
    "import pandas as pd\n",
    "import itertools\n",
    "import random\n",
    "import seaborn as sns\n",
    "import skbio.stats.distance as ssd\n",
    "from scipy.stats import kruskal\n",
    "import matplotlib.pyplot as plt"
   ]
  },
  {
   "cell_type": "markdown",
   "metadata": {},
   "source": [
    "The metadata field 'groups' is used to categorize the probands. \n",
    "- G1P is non-NAFLD controls; G1R first degree relatives\n",
    "- G2P is NAFLD no advanced Fibrosis; G2R first degree relatives\n",
    "- G3P is NAFLD-cirrhosis; G3R first degree relatives"
   ]
  },
  {
   "cell_type": "code",
   "execution_count": 2,
   "metadata": {},
   "outputs": [],
   "source": [
    "# load unifrac distance matrix\n",
    "uwdm = ssd.DistanceMatrix.read('bdiv9k/unweighted_unifrac_dm.txt')\n",
    "wdm = ssd.DistanceMatrix.read('bdiv9k/unweighted_unifrac_dm.txt')\n",
    "sample_arr = (wdm.ids)"
   ]
  },
  {
   "cell_type": "code",
   "execution_count": 3,
   "metadata": {},
   "outputs": [],
   "source": [
    "mapfile = pd.read_table('all_qiime_mapping_complete_corr_CC_28_09.txt', sep='\\t', index_col=0)"
   ]
  },
  {
   "cell_type": "code",
   "execution_count": 4,
   "metadata": {},
   "outputs": [
    {
     "data": {
      "text/plain": [
       "192"
      ]
     },
     "execution_count": 4,
     "metadata": {},
     "output_type": "execute_result"
    }
   ],
   "source": [
    "len(sample_arr)"
   ]
  },
  {
   "cell_type": "code",
   "execution_count": 5,
   "metadata": {},
   "outputs": [],
   "source": [
    "# make pairs of related and unrelated samples\n",
    "allposs = list(itertools.combinations(sample_arr, 2)) # all possible pairs\n",
    "rel = []\n",
    "unrel = []\n",
    "for pair in allposs:\n",
    "    if (pair[0].split('.')[-2] == pair[1].split('.')[-2]): # if sample identifiers match\n",
    "        rel.append(pair)\n",
    "    else:\n",
    "        unrel.append(pair)"
   ]
  },
  {
   "cell_type": "code",
   "execution_count": 6,
   "metadata": {},
   "outputs": [
    {
     "data": {
      "text/plain": [
       "(18318, 5)"
      ]
     },
     "execution_count": 6,
     "metadata": {},
     "output_type": "execute_result"
    }
   ],
   "source": [
    "# GROUP & house INFO\n",
    "# for related pairs: split into G1s, G2s and G3s\n",
    "\n",
    "pg1=[]\n",
    "ph1=[]\n",
    "pz1=[]\n",
    "\n",
    "pg2=[]\n",
    "ph2=[]\n",
    "pz2=[]\n",
    "\n",
    "pg3=[]\n",
    "ph3=[]\n",
    "pz3=[]\n",
    "\n",
    "for pair in rel:\n",
    "    # if any assigned G1 (since they're twins, just one pair per family)\n",
    "    if 'G1' in str(mapfile.loc[pair[0], 'groups']) or 'G1' in str(mapfile.loc[pair[1], 'groups']):\n",
    "        pg1.append(pair)\n",
    "        \n",
    "        # add housing\n",
    "        if str(mapfile.loc[pair[0], 'housing']) == '1' and str(mapfile.loc[pair[1], 'housing']) == '1': #to be sure\n",
    "            ph1.append('shared')\n",
    "        else:\n",
    "            ph1.append('not shared')\n",
    "        \n",
    "        # add zygoticity    \n",
    "        if str(mapfile.loc[pair[0], 'zygoticity']) == '1' and str(mapfile.loc[pair[1], 'zygoticity']) == '1': #to be sure\n",
    "            pz1.append('MZ twins')\n",
    "        else:\n",
    "            pz1.append('not MZ twins')\n",
    "        \n",
    "    \n",
    "    # if any assigned G2 (since they're twins, just one pair per family)   \n",
    "    if 'G2' in str(mapfile.loc[pair[0], 'groups']) or 'G2' in str(mapfile.loc[pair[1], 'groups']):\n",
    "        pg2.append(pair)\n",
    "        \n",
    "        # add housing\n",
    "        if str(mapfile.loc[pair[0], 'housing']) == '1' and str(mapfile.loc[pair[1], 'housing']) == '1': #to be sure\n",
    "            ph2.append('shared')\n",
    "        else:\n",
    "            ph2.append('not shared')\n",
    "            \n",
    "        # add zygoticity    \n",
    "        if str(mapfile.loc[pair[0], 'zygoticity']) == '1' and str(mapfile.loc[pair[1], 'zygoticity']) == '1': #to be sure\n",
    "            pz2.append('MZ twins')\n",
    "        else:\n",
    "            pz2.append('not MZ twins')\n",
    "            \n",
    "    # we make sure each pair contains a proband i.e no relative-relative pairs as there are > 1 relatives for some probands\n",
    "    if 'G3P' in str(mapfile.loc[pair[0], 'groups']) or 'G3P' in str(mapfile.loc[pair[1], 'groups']):\n",
    "        pg3.append(pair)\n",
    "        \n",
    "        # add housing\n",
    "        if str(mapfile.loc[pair[0], 'housing']) == '1' and str(mapfile.loc[pair[1], 'housing']) == '1': #to be sure\n",
    "            ph3.append('shared')\n",
    "        else:\n",
    "            ph3.append('not shared')\n",
    "            \n",
    "        # add zygoticity    \n",
    "        if str(mapfile.loc[pair[0], 'zygoticity']) == '1' and str(mapfile.loc[pair[1], 'zygoticity']) == '1': #to be sure\n",
    "            pz3.append('MZ twins')\n",
    "        else:\n",
    "            pz3.append('not MZ twins')\n",
    "            \n",
    "# make list of distances belonging to rel, G1, G2, G3, unrel\n",
    "drel = [uwdm[pair] for pair in rel]\n",
    "dg1 = [uwdm[pair] for pair in pg1]\n",
    "dg2 = [uwdm[pair] for pair in pg2]\n",
    "dg3 = [uwdm[pair] for pair in pg3]\n",
    "dunrel = [uwdm[pair] for pair in unrel]\n",
    "\n",
    "# create dataframe used to plot\n",
    "pdf = pd.DataFrame(index=pd.MultiIndex.from_tuples(pg1+pg2+pg3+unrel), \n",
    "                   columns=['unweighted_unifrac','groups', 'housing', 'related', 'zygocity'])\n",
    "\n",
    "pdf.shape"
   ]
  },
  {
   "cell_type": "code",
   "execution_count": 7,
   "metadata": {},
   "outputs": [],
   "source": [
    "# assign groups\n",
    "pdf.groups=['G1']*len(pg1)+['G2']*len(pg2)+['G3']*len(pg3)+['unrelated']*len(unrel)\n",
    "# assign distances\n",
    "pdf.unweighted_unifrac=dg1+dg2+dg3+dunrel\n",
    "\n",
    "# assign relatedness\n",
    "pdf.related = ['related']*len(pg1+pg2+pg3) + ['unrelated']*len(unrel)\n",
    "\n",
    "#assign housing\n",
    "pdf.housing = ph1+ph2+ph3 + ['unrelated']*len(unrel)\n",
    "\n",
    "#assign zygoticity\n",
    "pdf.zygocity = pz1+pz2+pz3 + ['unrelated']*len(unrel)"
   ]
  },
  {
   "cell_type": "code",
   "execution_count": 8,
   "metadata": {},
   "outputs": [],
   "source": [
    "pdf.reset_index().to_csv('tables/unweighted_UniFrac_per_pair.csv', sep=',', index=False)"
   ]
  },
  {
   "cell_type": "markdown",
   "metadata": {},
   "source": [
    "**For housing, we used a positive filter here i.e 'shared' when both elements have housing=1 & 'not shared'\n",
    "in all other cases. But some of the unknowns might be shared too. If shared housing pairs are tagged as unshared for ambiguous cases, our estimates will still remain robust as we will be assessing the differences betweeen the groups more conservatively . Therefore, we don't remove these ambiguous pairs to maintain sample size**"
   ]
  },
  {
   "cell_type": "markdown",
   "metadata": {},
   "source": [
    "### 1. microbiome distance distribution between related and unrelated individuals"
   ]
  },
  {
   "cell_type": "code",
   "execution_count": 9,
   "metadata": {},
   "outputs": [
    {
     "data": {
      "image/png": "[encoded data removed]",
      "text/plain": [
       "<Figure size 432x288 with 1 Axes>"
      ]
     },
     "metadata": {},
     "output_type": "display_data"
    }
   ],
   "source": [
    "fig, ax = plt.subplots()\n",
    "sns.boxplot(x='related', y='unweighted_unifrac', data=pdf, ax=ax,\n",
    "            palette={'related':'#B3A2C7', 'unrelated':'#E1812C'})\n",
    "plt.savefig('figures/fig1c.1.unwtUF_related_unrelated.pdf', bbox_to_inches='tight')"
   ]
  },
  {
   "cell_type": "code",
   "execution_count": 10,
   "metadata": {},
   "outputs": [
    {
     "data": {
      "text/plain": [
       "KruskalResult(statistic=17.28162430608063, pvalue=3.2228852279014334e-05)"
      ]
     },
     "execution_count": 10,
     "metadata": {},
     "output_type": "execute_result"
    }
   ],
   "source": [
    "# related vs. not related\n",
    "g1 = list(pdf[pdf.related == 'related']['unweighted_unifrac'])\n",
    "g2 = list(pdf[pdf.related == 'unrelated']['unweighted_unifrac'])\n",
    "kruskal(g1, g2)"
   ]
  },
  {
   "cell_type": "markdown",
   "metadata": {},
   "source": [
    "### 2. microbiome distance between related and unrelated individuals stratified by shared housing"
   ]
  },
  {
   "cell_type": "code",
   "execution_count": 11,
   "metadata": {},
   "outputs": [
    {
     "data": {
      "image/png": "[encoded data removed]",
      "text/plain": [
       "<Figure size 432x288 with 1 Axes>"
      ]
     },
     "metadata": {},
     "output_type": "display_data"
    }
   ],
   "source": [
    "fig, ax = plt.subplots()\n",
    "sns.boxplot(x='related', y='unweighted_unifrac', hue='housing', data=pdf, \n",
    "            palette={'shared':'#B3A2C7', 'not shared': '#871F78', 'unrelated': '#E1812C'})\n",
    "plt.savefig('figures/fig1d.unwtUF_related_unrelated_housing.pdf', bbox_to_inches='tight')"
   ]
  },
  {
   "cell_type": "code",
   "execution_count": 12,
   "metadata": {},
   "outputs": [
    {
     "name": "stdout",
     "output_type": "stream",
     "text": [
      "KruskalResult(statistic=3.9993238674779832, pvalue=0.045518520277724239)\n",
      "KruskalResult(statistic=4.7678476500368561, pvalue=0.028996054509472777)\n",
      "KruskalResult(statistic=15.120690576230118, pvalue=0.00010085186950756731)\n"
     ]
    }
   ],
   "source": [
    "# shared vs not shared within related individuals\n",
    "pdfsub =  pdf[pdf.related == 'related']\n",
    "\n",
    "g1 = list(pdfsub[pdfsub.housing == 'shared']['unweighted_unifrac'])\n",
    "g2 = list(pdfsub[pdfsub.housing == 'not shared']['unweighted_unifrac'])\n",
    "print(kruskal(g1, g2))\n",
    "\n",
    "# not shared vs unrelated \n",
    "g3 = list(pdf[pdf.related == 'unrelated']['unweighted_unifrac'])\n",
    "print(kruskal(g3, g2))\n",
    "print(kruskal(g1,g3))"
   ]
  },
  {
   "cell_type": "markdown",
   "metadata": {},
   "source": [
    "### 3. microbiome distance between related and unrelated individuals stratified by MZ status"
   ]
  },
  {
   "cell_type": "code",
   "execution_count": 13,
   "metadata": {},
   "outputs": [
    {
     "data": {
      "image/png": "[encoded data removed]",
      "text/plain": [
       "<Figure size 432x288 with 1 Axes>"
      ]
     },
     "metadata": {},
     "output_type": "display_data"
    }
   ],
   "source": [
    "fig, ax = plt.subplots()\n",
    "ax = sns.boxplot(x='related', y='unweighted_unifrac', hue='zygocity', data=pdf, \n",
    "            palette={'MZ twins':'#B3A2C7', 'not MZ twins': '#871F78', 'unrelated': '#E1812C'})\n",
    "ax.set(ylabel='beta-diversity (Unweighted UniFrac)')\n",
    "plt.savefig('figures/figS2a.unwtUF_related_unrelated_zygoticity_R1.pdf', bbox_to_inches='tight')"
   ]
  },
  {
   "cell_type": "code",
   "execution_count": 14,
   "metadata": {},
   "outputs": [
    {
     "name": "stdout",
     "output_type": "stream",
     "text": [
      "KruskalResult(statistic=0.038010175240287936, pvalue=0.84542270879392056)\n",
      "KruskalResult(statistic=12.828986567663378, pvalue=0.0003412905594502356)\n",
      "KruskalResult(statistic=4.5061787395170541, pvalue=0.033772611224878742)\n"
     ]
    }
   ],
   "source": [
    "# shared vs not shared within related individuals\n",
    "pdfsub =  pdf[pdf.related == 'related']\n",
    "\n",
    "g1 = list(pdfsub[pdfsub.zygocity == 'MZ twins']['unweighted_unifrac'])\n",
    "g2 = list(pdfsub[pdfsub.zygocity == 'not MZ twins']['unweighted_unifrac'])\n",
    "print(kruskal(g1, g2))\n",
    "\n",
    "# not shared vs unrelated \n",
    "g3 = list(pdf[pdf.related == 'unrelated']['unweighted_unifrac'])\n",
    "print(kruskal(g3, g2))\n",
    "print(kruskal(g1,g3))"
   ]
  },
  {
   "cell_type": "markdown",
   "metadata": {},
   "source": [
    "### 4. microbiome distance between different disease groups"
   ]
  },
  {
   "cell_type": "code",
   "execution_count": 15,
   "metadata": {
    "scrolled": true
   },
   "outputs": [
    {
     "data": {
      "image/png": "[encoded data removed]",
      "text/plain": [
       "<Figure size 432x288 with 1 Axes>"
      ]
     },
     "metadata": {},
     "output_type": "display_data"
    }
   ],
   "source": [
    "fig, ax = plt.subplots()\n",
    "sns.boxplot(x='groups', y='unweighted_unifrac', data=pdf,\n",
    "           palette={'G1':'#01AEE8', 'G2':'#1E988A', 'G3':'#F04D9C', 'unrelated':'#E1812C'})\n",
    "plt.savefig('figures/fig1c.2.unwtUF_groups_unrelated.pdf', bbox_to_inches='tight')"
   ]
  },
  {
   "cell_type": "code",
   "execution_count": 16,
   "metadata": {},
   "outputs": [
    {
     "name": "stdout",
     "output_type": "stream",
     "text": [
      "KruskalResult(statistic=0.11267056530212471, pvalue=0.73712398150697123)\n",
      "KruskalResult(statistic=1.6357452071737555, pvalue=0.20091024364769761)\n",
      "KruskalResult(statistic=1.1994949494949481, pvalue=0.27342264497900259)\n",
      "KruskalResult(statistic=10.523713867834886, pvalue=0.0011785240270705275)\n",
      "KruskalResult(statistic=5.84076757333969, pvalue=0.015658994052663192)\n",
      "KruskalResult(statistic=2.5937310908630025, pvalue=0.1072873340749159)\n"
     ]
    }
   ],
   "source": [
    "# kruskal wallis test for shared vs. not shared within related individuals\n",
    "pdfsub =  pdf[pdf.related == 'related']\n",
    "\n",
    "g1 = list(pdfsub[pdfsub.groups == 'G1']['unweighted_unifrac'])\n",
    "g2 = list(pdfsub[pdfsub.groups == 'G2']['unweighted_unifrac'])\n",
    "g3 = list(pdfsub[pdfsub.groups == 'G3']['unweighted_unifrac'])\n",
    "\n",
    "g4 = list(pdf[pdf.related == 'unrelated']['unweighted_unifrac'])\n",
    "\n",
    "print(kruskal(g1, g2))\n",
    "print(kruskal(g2, g3))\n",
    "print(kruskal(g1, g3))\n",
    "\n",
    "print(kruskal(g1, g4))\n",
    "print(kruskal(g2, g4))\n",
    "print(kruskal(g3, g4))"
   ]
  },
  {
   "cell_type": "markdown",
   "metadata": {},
   "source": [
    "### 5. microbiome distance between different disease groups stratified by shared housing"
   ]
  },
  {
   "cell_type": "code",
   "execution_count": 17,
   "metadata": {},
   "outputs": [
    {
     "data": {
      "image/png": "[encoded data removed]",
      "text/plain": [
       "<Figure size 432x288 with 1 Axes>"
      ]
     },
     "metadata": {},
     "output_type": "display_data"
    }
   ],
   "source": [
    "fig, ax = plt.subplots()\n",
    "sns.boxplot(x='groups', y='unweighted_unifrac', hue='housing', data=pdf,\n",
    "           palette={'shared':'#B3A2C7', 'not shared': '#871F78', 'unrelated': '#E1812C'})\n",
    "plt.savefig('figures/unwtUF_groups_unrelated_housing.pdf', bbox_to_inches='tight')"
   ]
  },
  {
   "cell_type": "code",
   "execution_count": 18,
   "metadata": {},
   "outputs": [
    {
     "name": "stdout",
     "output_type": "stream",
     "text": [
      "KruskalResult(statistic=6.1678321678321595, pvalue=0.013009392806716601)\n",
      "KruskalResult(statistic=4.3636363636363669, pvalue=0.036713856362704092)\n",
      "KruskalResult(statistic=2.0016339869280984, pvalue=0.15712974084551593)\n"
     ]
    }
   ],
   "source": [
    "# kruskal wallis test for shared vs. not shared within related individuals\n",
    "pdfsub =  pdf[pdf.related == 'related']\n",
    "\n",
    "pdfsubg1 = pdfsub[pdfsub.groups == 'G1']\n",
    "g1s = list(pdfsubg1[pdfsubg1.housing == 'shared']['unweighted_unifrac'])\n",
    "g1us = list(pdfsubg1[pdfsubg1.housing == 'not shared']['unweighted_unifrac'])\n",
    "\n",
    "pdfsubg2 = pdfsub[pdfsub.groups == 'G2']\n",
    "g2s = list(pdfsubg2[pdfsubg2.housing == 'shared']['unweighted_unifrac'])\n",
    "g2us = list(pdfsubg2[pdfsubg2.housing == 'not shared']['unweighted_unifrac'])\n",
    "\n",
    "pdfsubg3 = pdfsub[pdfsub.groups == 'G3']\n",
    "g3s = list(pdfsubg3[pdfsubg3.housing == 'shared']['unweighted_unifrac'])\n",
    "g3us = list(pdfsubg3[pdfsubg3.housing == 'not shared']['unweighted_unifrac'])\n",
    "\n",
    "print(kruskal(g1s, g1us))\n",
    "print(kruskal(g2s, g2us))\n",
    "print(kruskal(g3s, g3us))"
   ]
  },
  {
   "cell_type": "markdown",
   "metadata": {},
   "source": [
    "### 6. microbiome distance between different disease groups stratified by zygoticity"
   ]
  },
  {
   "cell_type": "code",
   "execution_count": 19,
   "metadata": {},
   "outputs": [
    {
     "data": {
      "image/png": "[encoded data removed]",
      "text/plain": [
       "<Figure size 432x288 with 1 Axes>"
      ]
     },
     "metadata": {},
     "output_type": "display_data"
    }
   ],
   "source": [
    "fig, ax = plt.subplots()\n",
    "sns.boxplot(x='groups', y='unweighted_unifrac', hue='zygocity', data=pdf,\n",
    "           palette={'MZ twins':'#B3A2C7', 'not MZ twins': '#871F78', 'unrelated': '#E1812C'})\n",
    "ax.set(ylabel='beta-diversity (Unweighted UniFrac)')\n",
    "ax.legend_.remove()\n",
    "plt.savefig('figures/figS2b.unwtUF_groups_unrelated_zygoticity_R1.pdf', bbox_to_inches='tight')"
   ]
  },
  {
   "cell_type": "code",
   "execution_count": 20,
   "metadata": {},
   "outputs": [
    {
     "name": "stdout",
     "output_type": "stream",
     "text": [
      "KruskalResult(statistic=2.0139860139860133, pvalue=0.15585536220694751)\n",
      "KruskalResult(statistic=0.013888888888892836, pvalue=0.90618561575491507)\n"
     ]
    }
   ],
   "source": [
    "# kruskal wallis test based on genetic similarity within pairs\n",
    "\n",
    "pdfsub =  pdf[pdf.related == 'related']\n",
    "\n",
    "pdfsubg1 = pdfsub[pdfsub.groups == 'G1']\n",
    "g1mz = list(pdfsubg1[pdfsubg1.zygocity == 'MZ twins']['unweighted_unifrac'])\n",
    "g1nmz = list(pdfsubg1[pdfsubg1.zygocity == 'not MZ twins']['unweighted_unifrac'])\n",
    "\n",
    "pdfsubg2 = pdfsub[pdfsub.groups == 'G2']\n",
    "g2mz = list(pdfsubg2[pdfsubg2.zygocity == 'MZ twins']['unweighted_unifrac'])\n",
    "g2nmz = list(pdfsubg2[pdfsubg2.zygocity == 'not MZ twins']['unweighted_unifrac'])\n",
    "\n",
    "g4 = list(pdf[pdf.related == 'unrelated']['unweighted_unifrac'])\n",
    "\n",
    "# Kruskal-wallis between mz and not mz within each group\n",
    "print(kruskal(g1mz, g1nmz))\n",
    "print(kruskal(g2mz, g2nmz))"
   ]
  },
  {
   "cell_type": "code",
   "execution_count": 21,
   "metadata": {},
   "outputs": [
    {
     "name": "stdout",
     "output_type": "stream",
     "text": [
      "KruskalResult(statistic=1.1911116480405326, pvalue=0.27510543835593626)\n",
      "KruskalResult(statistic=11.120729342481354, pvalue=0.00085368211072522763)\n",
      "KruskalResult(statistic=4.3432986394473119, pvalue=0.037154872352879814)\n",
      "KruskalResult(statistic=1.6117289951507701, pvalue=0.20424892889845189)\n"
     ]
    }
   ],
   "source": [
    "# Kruskal-wallis to unrelated\n",
    "print(kruskal(g1mz, g4))\n",
    "print(kruskal(g1nmz, g4))\n",
    "\n",
    "print(kruskal(g2mz, g4))\n",
    "print(kruskal(g2nmz, g4))"
   ]
  }
 ],
 "metadata": {
  "kernelspec": {
   "display_name": "Python 3",
   "language": "python",
   "name": "python3"
  },
  "language_info": {
   "codemirror_mode": {
    "name": "ipython",
    "version": 3
   },
   "file_extension": ".py",
   "mimetype": "text/x-python",
   "name": "python",
   "nbconvert_exporter": "python",
   "pygments_lexer": "ipython3",
   "version": "3.5.5"
  }
 },
 "nbformat": 4,
 "nbformat_minor": 2
}
