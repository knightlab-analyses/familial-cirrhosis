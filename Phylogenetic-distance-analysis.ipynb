{
 "cells": [
  {
   "cell_type": "code",
   "execution_count": 1,
   "metadata": {},
   "outputs": [],
   "source": [
    "import pandas as pd\n",
    "import itertools\n",
    "import random\n",
    "import seaborn as sns\n",
    "import skbio.stats.distance as ssd\n",
    "from scipy.stats import kruskal\n",
    "import matplotlib.pyplot as plt"
   ]
  },
  {
   "cell_type": "markdown",
   "metadata": {},
   "source": [
    "The metadata field 'groups' is used to categorize the probands. \n",
    "- G1P is non-NAFLD controls; G1R first degree relatives\n",
    "- G2P is NAFLD no advanced Fibrosis; G2R first degree relatives\n",
    "- G3P is NAFLD-cirrhosis; G3R first degree relatives"
   ]
  },
  {
   "cell_type": "code",
   "execution_count": 2,
   "metadata": {},
   "outputs": [],
   "source": [
    "#load unifrac distance matrix\n",
    "uwdm = ssd.DistanceMatrix.read('../bdiv9k/unweighted_unifrac_dm.txt')\n",
    "wdm = ssd.DistanceMatrix.read('../bdiv9k/unweighted_unifrac_dm.txt')\n",
    "sample_arr = (wdm.ids)"
   ]
  },
  {
   "cell_type": "code",
   "execution_count": 3,
   "metadata": {},
   "outputs": [],
   "source": [
    "mapfile = pd.read_table('../all_qiime_mapping_complete_corr_CC.txt', sep='\\t', index_col=0)"
   ]
  },
  {
   "cell_type": "code",
   "execution_count": 4,
   "metadata": {},
   "outputs": [
    {
     "data": {
      "text/plain": [
       "192"
      ]
     },
     "execution_count": 4,
     "metadata": {},
     "output_type": "execute_result"
    }
   ],
   "source": [
    "len(sample_arr)"
   ]
  },
  {
   "cell_type": "code",
   "execution_count": 5,
   "metadata": {},
   "outputs": [],
   "source": [
    "# make pairs of related and unrelated samples\n",
    "allposs = list(itertools.combinations(sample_arr, 2)) # all possible pairs\n",
    "rel = []\n",
    "unrel = []\n",
    "for pair in allposs:\n",
    "    if (pair[0].split('.')[-2] == pair[1].split('.')[-2]): # if sample identifiers match\n",
    "        rel.append(pair)\n",
    "    else:\n",
    "        unrel.append(pair)"
   ]
  },
  {
   "cell_type": "code",
   "execution_count": 6,
   "metadata": {},
   "outputs": [
    {
     "data": {
      "text/plain": [
       "18232"
      ]
     },
     "execution_count": 6,
     "metadata": {},
     "output_type": "execute_result"
    }
   ],
   "source": [
    "len(unrel)"
   ]
  },
  {
   "cell_type": "code",
   "execution_count": 7,
   "metadata": {},
   "outputs": [
    {
     "data": {
      "text/plain": [
       "(18318, 4)"
      ]
     },
     "execution_count": 7,
     "metadata": {},
     "output_type": "execute_result"
    }
   ],
   "source": [
    "# GROUP & house INFO\n",
    "# for related pairs: split into G1s, G2s and G3s\n",
    "\n",
    "pg1=[]\n",
    "ph1=[]\n",
    "\n",
    "pg2=[]\n",
    "ph2=[]\n",
    "\n",
    "pg3=[]\n",
    "ph3=[]\n",
    "\n",
    "for pair in rel:\n",
    "    # if any assigned G1 (since they're twins, just one pair per family)\n",
    "    if 'G1' in str(mapfile.loc[pair[0], 'groups']) or 'G1' in str(mapfile.loc[pair[1], 'groups']):\n",
    "        pg1.append(pair)\n",
    "        if str(mapfile.loc[pair[0], 'housing']) == '1' and str(mapfile.loc[pair[1], 'housing']) == '1': #to be sure\n",
    "            ph1.append('shared')\n",
    "        else:\n",
    "            ph1.append('not shared')\n",
    "        \n",
    "    \n",
    "    # if any assigned G2 (since they're twins, just one pair per family)   \n",
    "    if 'G2' in str(mapfile.loc[pair[0], 'groups']) or 'G2' in str(mapfile.loc[pair[1], 'groups']):\n",
    "        pg2.append(pair)\n",
    "        if str(mapfile.loc[pair[0], 'housing']) == '1' and str(mapfile.loc[pair[1], 'housing']) == '1': #to be sure\n",
    "            ph2.append('shared')\n",
    "        else:\n",
    "            ph2.append('not shared')\n",
    "            \n",
    "    # we want the proband in each pair? (don't have to do for twins as there's just one pair per proband)\n",
    "    if 'G3P' in str(mapfile.loc[pair[0], 'groups']) or 'G3P' in str(mapfile.loc[pair[1], 'groups']):\n",
    "        pg3.append(pair)\n",
    "        if str(mapfile.loc[pair[0], 'housing']) == '1' and str(mapfile.loc[pair[1], 'housing']) == '1': #to be sure\n",
    "            ph3.append('shared')\n",
    "        else:\n",
    "            ph3.append('not shared')\n",
    "\n",
    "# make list of distances belonging to rel, G1, G2, G3, unrel\n",
    "drel = [uwdm[pair] for pair in rel]\n",
    "dg1 = [uwdm[pair] for pair in pg1]\n",
    "dg2 = [uwdm[pair] for pair in pg2]\n",
    "dg3 = [uwdm[pair] for pair in pg3]\n",
    "dunrel = [uwdm[pair] for pair in unrel]\n",
    "\n",
    "# create dataframe used to plot\n",
    "pdf = pd.DataFrame(index=pd.MultiIndex.from_tuples(pg1+pg2+pg3+unrel), \n",
    "                   columns=['unweighted_unifrac','groups', 'housing', 'related'])\n",
    "\n",
    "pdf.shape"
   ]
  },
  {
   "cell_type": "markdown",
   "metadata": {},
   "source": [
    "**For housing, we used a positive filter here i.e 'shared' when both elements have housing=1 & 'not shared'\n",
    "in all other cases. But some of the unknowns might be shared too. So we would like to remove such pairs below**"
   ]
  },
  {
   "cell_type": "code",
   "execution_count": 8,
   "metadata": {},
   "outputs": [],
   "source": [
    "# assign groups\n",
    "pdf.groups=['G1']*len(pg1)+['G2']*len(pg2)+['G3']*len(pg3)+['unrelated']*len(unrel)\n",
    "# assign distances\n",
    "pdf.unweighted_unifrac=dg1+dg2+dg3+dunrel\n",
    "# assign relatedness\n",
    "pdf.related = ['related']*len(pg1+pg2+pg3) + ['unrelated']*len(unrel)\n",
    "#assign housing\n",
    "pdf.housing = ph1+ph2+ph3 + ['unrelated']*len(unrel)"
   ]
  },
  {
   "cell_type": "code",
   "execution_count": 9,
   "metadata": {
    "scrolled": true
   },
   "outputs": [
    {
     "data": {
      "text/plain": [
       "array(['shared', 'not shared', 'unrelated'], dtype=object)"
      ]
     },
     "execution_count": 9,
     "metadata": {},
     "output_type": "execute_result"
    }
   ],
   "source": [
    "pdf.housing.unique()"
   ]
  },
  {
   "cell_type": "code",
   "execution_count": 10,
   "metadata": {},
   "outputs": [],
   "source": [
    "pdf.reset_index().to_csv('../tables/unweighted_UniFrac_per_pair.csv', sep=',', index=False)"
   ]
  },
  {
   "cell_type": "code",
   "execution_count": 11,
   "metadata": {},
   "outputs": [
    {
     "data": {
      "text/plain": [
       "(18289, 4)"
      ]
     },
     "execution_count": 11,
     "metadata": {},
     "output_type": "execute_result"
    }
   ],
   "source": [
    "# drop ambiguous housing pairs for which we don't have complete housing information\n",
    "todrop=[]\n",
    "for pair in pdf.index:\n",
    "    if pdf.loc[pair, 'related']=='related':\n",
    "        if mapfile.loc[pair[0], 'housing'] not in ['0', '1'] or mapfile.loc[pair[1], 'housing'] not in ['0', '1']:\n",
    "            todrop.append(pair)\n",
    "pdf2 = pdf.drop(todrop, axis=0)\n",
    "pdf2.shape"
   ]
  },
  {
   "cell_type": "markdown",
   "metadata": {},
   "source": [
    "### 1. microbiome distance distribution between related and unrelated individuals"
   ]
  },
  {
   "cell_type": "code",
   "execution_count": 12,
   "metadata": {},
   "outputs": [
    {
     "data": {
      "image/png": "[encoded data removed]",
      "text/plain": [
       "<Figure size 432x288 with 1 Axes>"
      ]
     },
     "metadata": {},
     "output_type": "display_data"
    }
   ],
   "source": [
    "fig, ax = plt.subplots()\n",
    "sns.boxplot(x='related', y='unweighted_unifrac', data=pdf, ax=ax,\n",
    "            palette={'related':'#B3A2C7', 'unrelated':'#E1812C'})\n",
    "plt.savefig('../figures/fig1c.1.unwtUF_related_unrelated.pdf', bbox_to_inches='tight')"
   ]
  },
  {
   "cell_type": "code",
   "execution_count": 13,
   "metadata": {},
   "outputs": [
    {
     "data": {
      "text/plain": [
       "KruskalResult(statistic=17.28162430608063, pvalue=3.2228852279014334e-05)"
      ]
     },
     "execution_count": 13,
     "metadata": {},
     "output_type": "execute_result"
    }
   ],
   "source": [
    "# related vs. not related\n",
    "g1 = list(pdf[pdf.related == 'related']['unweighted_unifrac'])\n",
    "g2 = list(pdf[pdf.related == 'unrelated']['unweighted_unifrac'])\n",
    "kruskal(g1, g2)"
   ]
  },
  {
   "cell_type": "markdown",
   "metadata": {},
   "source": [
    "### 2. microbiome distance between related and unrelated individuals stratified by shared housing"
   ]
  },
  {
   "cell_type": "code",
   "execution_count": 14,
   "metadata": {},
   "outputs": [
    {
     "data": {
      "image/png": "[encoded data removed]",
      "text/plain": [
       "<Figure size 432x288 with 1 Axes>"
      ]
     },
     "metadata": {},
     "output_type": "display_data"
    }
   ],
   "source": [
    "fig, ax = plt.subplots()\n",
    "sns.boxplot(x='related', y='unweighted_unifrac', hue='housing', data=pdf, \n",
    "            palette={'shared':'#B3A2C7', 'not shared': '#871F78', 'unrelated': '#E1812C'})\n",
    "# sns.swarmplot(x='related', y='unweighted_unifrac', hue='housing', data=pdf)\n",
    "plt.savefig('../figures/fig1d.unwtUF_related_unrelated_housing.pdf', bbox_to_inches='tight')"
   ]
  },
  {
   "cell_type": "code",
   "execution_count": 15,
   "metadata": {},
   "outputs": [
    {
     "name": "stdout",
     "output_type": "stream",
     "text": [
      "KruskalResult(statistic=3.9993238674779832, pvalue=0.045518520277724239)\n",
      "KruskalResult(statistic=4.7678476500368561, pvalue=0.028996054509472777)\n",
      "KruskalResult(statistic=15.120690576230118, pvalue=0.00010085186950756731)\n"
     ]
    }
   ],
   "source": [
    "# shared vs not shared within related individuals\n",
    "pdfsub =  pdf[pdf.related == 'related']\n",
    "\n",
    "g1 = list(pdfsub[pdfsub.housing == 'shared']['unweighted_unifrac'])\n",
    "g2 = list(pdfsub[pdfsub.housing == 'not shared']['unweighted_unifrac'])\n",
    "print(kruskal(g1, g2))\n",
    "\n",
    "# not shared vs unrelated \n",
    "g3 = list(pdf[pdf.related == 'unrelated']['unweighted_unifrac'])\n",
    "print(kruskal(g3, g2))\n",
    "print(kruskal(g1,g3))"
   ]
  },
  {
   "cell_type": "markdown",
   "metadata": {},
   "source": [
    "### 3. microbiome distance between different disease groups"
   ]
  },
  {
   "cell_type": "code",
   "execution_count": 16,
   "metadata": {},
   "outputs": [
    {
     "data": {
      "image/png": "[encoded data removed]",
      "text/plain": [
       "<Figure size 432x288 with 1 Axes>"
      ]
     },
     "metadata": {},
     "output_type": "display_data"
    }
   ],
   "source": [
    "fig, ax = plt.subplots()\n",
    "sns.boxplot(x='groups', y='unweighted_unifrac', data=pdf,\n",
    "           palette={'G1':'#01AEE8', 'G2':'#1E988A', 'G3':'#F04D9C', 'unrelated':'#E1812C'})\n",
    "plt.savefig('../figures/fig1c.2.unwtUF_groups_unrelated.pdf', bbox_to_inches='tight')"
   ]
  },
  {
   "cell_type": "code",
   "execution_count": 17,
   "metadata": {},
   "outputs": [
    {
     "name": "stdout",
     "output_type": "stream",
     "text": [
      "KruskalResult(statistic=0.11267056530212471, pvalue=0.73712398150697123)\n",
      "KruskalResult(statistic=1.6357452071737555, pvalue=0.20091024364769761)\n",
      "KruskalResult(statistic=1.1994949494949481, pvalue=0.27342264497900259)\n",
      "KruskalResult(statistic=10.523713867834886, pvalue=0.0011785240270705275)\n",
      "KruskalResult(statistic=5.84076757333969, pvalue=0.015658994052663192)\n",
      "KruskalResult(statistic=2.5937310908630025, pvalue=0.1072873340749159)\n"
     ]
    }
   ],
   "source": [
    "# kruskal wallis test for shared vs. not shared within related individuals\n",
    "pdfsub =  pdf[pdf.related == 'related']\n",
    "\n",
    "g1 = list(pdfsub[pdfsub.groups == 'G1']['unweighted_unifrac'])\n",
    "g2 = list(pdfsub[pdfsub.groups == 'G2']['unweighted_unifrac'])\n",
    "g3 = list(pdfsub[pdfsub.groups == 'G3']['unweighted_unifrac'])\n",
    "\n",
    "g4 = list(pdf[pdf.related == 'unrelated']['unweighted_unifrac'])\n",
    "\n",
    "print(kruskal(g1, g2))\n",
    "print(kruskal(g2, g3))\n",
    "print(kruskal(g1, g3))\n",
    "\n",
    "print(kruskal(g1, g4))\n",
    "print(kruskal(g2, g4))\n",
    "print(kruskal(g3, g4))"
   ]
  },
  {
   "cell_type": "markdown",
   "metadata": {},
   "source": [
    "### 4. microbiome distance between different disease groups stratified by shared housing"
   ]
  },
  {
   "cell_type": "code",
   "execution_count": 18,
   "metadata": {},
   "outputs": [
    {
     "data": {
      "image/png": "[encoded data removed]",
      "text/plain": [
       "<Figure size 432x288 with 1 Axes>"
      ]
     },
     "metadata": {},
     "output_type": "display_data"
    }
   ],
   "source": [
    "fig, ax = plt.subplots()\n",
    "sns.boxplot(x='groups', y='unweighted_unifrac', hue='housing', data=pdf,\n",
    "           palette={'shared':'#B3A2C7', 'not shared': '#871F78', 'unrelated': '#E1812C'})\n",
    "plt.savefig('../figures/unwtUF_groups_unrelated_housing.pdf', bbox_to_inches='tight')"
   ]
  },
  {
   "cell_type": "code",
   "execution_count": null,
   "metadata": {},
   "outputs": [],
   "source": []
  }
 ],
 "metadata": {
  "kernelspec": {
   "display_name": "Python 3",
   "language": "python",
   "name": "python3"
  },
  "language_info": {
   "codemirror_mode": {
    "name": "ipython",
    "version": 3
   },
   "file_extension": ".py",
   "mimetype": "text/x-python",
   "name": "python",
   "nbconvert_exporter": "python",
   "pygments_lexer": "ipython3",
   "version": "3.5.5"
  }
 },
 "nbformat": 4,
 "nbformat_minor": 2
}
